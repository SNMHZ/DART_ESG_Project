{
  "nbformat": 4,
  "nbformat_minor": 0,
  "metadata": {
    "colab": {
      "name": "KCGS_Crawler.ipynb",
      "provenance": [],
      "authorship_tag": "ABX9TyODaES8b+C9hBEO1rNPP//P",
      "include_colab_link": true
    },
    "kernelspec": {
      "display_name": "Python 3",
      "name": "python3"
    }
  },
  "cells": [
    {
      "cell_type": "markdown",
      "metadata": {
        "id": "view-in-github",
        "colab_type": "text"
      },
      "source": [
        "<a href=\"https://colab.research.google.com/github/SNMHZ/DART_ESG_Project/blob/main/KCGS_Crawler.ipynb\" target=\"_parent\"><img src=\"https://colab.research.google.com/assets/colab-badge.svg\" alt=\"Open In Colab\"/></a>"
      ]
    },
    {
      "cell_type": "code",
      "metadata": {
        "id": "URqlZPDSRLDV"
      },
      "source": [
        "from urllib.request import urlopen\n",
        "import bs4\n",
        "import pandas as pd\n",
        "import numpy as np"
      ],
      "execution_count": null,
      "outputs": []
    },
    {
      "cell_type": "code",
      "metadata": {
        "id": "tVXvffJf10NB"
      },
      "source": [
        "#year -> 2011 ~ 2020\n",
        "def get_KCGS_ESG(year):\n",
        "  #url 쿼리 보정\n",
        "  url = \"http://www.cgs.or.kr/business/esg_tab04.jsp?pg=1&sfyear=\"+str(year)\n",
        "  html = urlopen(url)\n",
        "  bs_obj = bs4.BeautifulSoup(html, \"html.parser\")\n",
        "  business_board = bs_obj.find(\"div\", {\"class\":\"business_board\"})\n",
        "  url=url+\"&pp=\"+business_board.findAll(\"tr\")[1].find(\"td\").text\n",
        "\n",
        "  #실제 크롤링 시작\n",
        "  html = urlopen(url)\n",
        "  bs_obj = bs4.BeautifulSoup(html, \"html.parser\")\n",
        "  business_board = bs_obj.find(\"div\", {\"class\":\"business_board\"})\n",
        "  business_board_rows = business_board.findAll(\"tr\")\n",
        "\n",
        "  #컬럼 이름 및 데이터 보관 리스트 생성\n",
        "  column_name_list = []\n",
        "  column_data_list = []\n",
        "  for column_name in business_board_rows[0].findAll(\"th\"):\n",
        "    column_name_list.append(column_name.text)\n",
        "    column_data_list.append([])\n",
        "\n",
        "  #데이터 리스트에 저장\n",
        "  for row in business_board_rows[1:]:\n",
        "    for i, elem in enumerate(row.findAll(\"td\")):\n",
        "      column_data_list[i].append(elem.text)\n",
        "  \n",
        "  #컬럼 이름 및 데이터로 데이터프레임 생성\n",
        "  m_df=pd.DataFrame()\n",
        "  column_name_list[2]='기업코드'\n",
        "  for i, col_name in enumerate(column_name_list):\n",
        "    m_df[col_name]=column_data_list[i]\n",
        "  m_df.index=m_df['NO']\n",
        "  del m_df['NO']\n",
        "  return m_df"
      ],
      "execution_count": null,
      "outputs": []
    },
    {
      "cell_type": "code",
      "metadata": {
        "id": "CE5lbvZr3WX5"
      },
      "source": [
        "KCGS_ESG_2017 = get_KCGS_ESG(2017)"
      ],
      "execution_count": null,
      "outputs": []
    },
    {
      "cell_type": "code",
      "metadata": {
        "colab": {
          "base_uri": "https://localhost:8080/",
          "height": 450
        },
        "id": "jJwEbo4n5vZP",
        "outputId": "fcc3e83c-af7e-4ba1-cd95-83be9f8a87b0"
      },
      "source": [
        "KCGS_ESG_2017"
      ],
      "execution_count": null,
      "outputs": [
        {
          "output_type": "execute_result",
          "data": {
            "text/html": [
              "<div>\n",
              "<style scoped>\n",
              "    .dataframe tbody tr th:only-of-type {\n",
              "        vertical-align: middle;\n",
              "    }\n",
              "\n",
              "    .dataframe tbody tr th {\n",
              "        vertical-align: top;\n",
              "    }\n",
              "\n",
              "    .dataframe thead th {\n",
              "        text-align: right;\n",
              "    }\n",
              "</style>\n",
              "<table border=\"1\" class=\"dataframe\">\n",
              "  <thead>\n",
              "    <tr style=\"text-align: right;\">\n",
              "      <th></th>\n",
              "      <th>기업명</th>\n",
              "      <th>기업코드</th>\n",
              "      <th>ESG등급</th>\n",
              "      <th>환경</th>\n",
              "      <th>사회</th>\n",
              "      <th>지배구조</th>\n",
              "      <th>평가년도</th>\n",
              "      <th>비고 (조정시기)</th>\n",
              "    </tr>\n",
              "    <tr>\n",
              "      <th>NO</th>\n",
              "      <th></th>\n",
              "      <th></th>\n",
              "      <th></th>\n",
              "      <th></th>\n",
              "      <th></th>\n",
              "      <th></th>\n",
              "      <th></th>\n",
              "      <th></th>\n",
              "    </tr>\n",
              "  </thead>\n",
              "  <tbody>\n",
              "    <tr>\n",
              "      <th>732</th>\n",
              "      <td>AJ네트웍스</td>\n",
              "      <td>095570</td>\n",
              "      <td>B이하</td>\n",
              "      <td>B이하</td>\n",
              "      <td>B이하</td>\n",
              "      <td>B</td>\n",
              "      <td>2017</td>\n",
              "      <td></td>\n",
              "    </tr>\n",
              "    <tr>\n",
              "      <th>731</th>\n",
              "      <td>AJ렌터카</td>\n",
              "      <td>068400</td>\n",
              "      <td>B이하</td>\n",
              "      <td>B이하</td>\n",
              "      <td>B이하</td>\n",
              "      <td>C</td>\n",
              "      <td>2017</td>\n",
              "      <td></td>\n",
              "    </tr>\n",
              "    <tr>\n",
              "      <th>730</th>\n",
              "      <td>AK홀딩스</td>\n",
              "      <td>006840</td>\n",
              "      <td>B이하</td>\n",
              "      <td>B이하</td>\n",
              "      <td>B이하</td>\n",
              "      <td>B</td>\n",
              "      <td>2017</td>\n",
              "      <td></td>\n",
              "    </tr>\n",
              "    <tr>\n",
              "      <th>729</th>\n",
              "      <td>BGF</td>\n",
              "      <td>027410</td>\n",
              "      <td>B이하</td>\n",
              "      <td>B이하</td>\n",
              "      <td>A</td>\n",
              "      <td>B</td>\n",
              "      <td>2017</td>\n",
              "      <td></td>\n",
              "    </tr>\n",
              "    <tr>\n",
              "      <th>728</th>\n",
              "      <td>BNK금융지주</td>\n",
              "      <td>138930</td>\n",
              "      <td>B+</td>\n",
              "      <td>B+</td>\n",
              "      <td>A</td>\n",
              "      <td>B</td>\n",
              "      <td>2017</td>\n",
              "      <td></td>\n",
              "    </tr>\n",
              "    <tr>\n",
              "      <th>...</th>\n",
              "      <td>...</td>\n",
              "      <td>...</td>\n",
              "      <td>...</td>\n",
              "      <td>...</td>\n",
              "      <td>...</td>\n",
              "      <td>...</td>\n",
              "      <td>...</td>\n",
              "      <td>...</td>\n",
              "    </tr>\n",
              "    <tr>\n",
              "      <th>5</th>\n",
              "      <td>휴비스</td>\n",
              "      <td>079980</td>\n",
              "      <td>B+</td>\n",
              "      <td>B+</td>\n",
              "      <td>A</td>\n",
              "      <td>B</td>\n",
              "      <td>2017</td>\n",
              "      <td></td>\n",
              "    </tr>\n",
              "    <tr>\n",
              "      <th>4</th>\n",
              "      <td>휴스틸</td>\n",
              "      <td>005010</td>\n",
              "      <td>B이하</td>\n",
              "      <td>B이하</td>\n",
              "      <td>B이하</td>\n",
              "      <td>B</td>\n",
              "      <td>2017</td>\n",
              "      <td></td>\n",
              "    </tr>\n",
              "    <tr>\n",
              "      <th>3</th>\n",
              "      <td>휴켐스</td>\n",
              "      <td>069260</td>\n",
              "      <td>B+</td>\n",
              "      <td>B+</td>\n",
              "      <td>B+</td>\n",
              "      <td>B</td>\n",
              "      <td>2017</td>\n",
              "      <td></td>\n",
              "    </tr>\n",
              "    <tr>\n",
              "      <th>2</th>\n",
              "      <td>흥국화재</td>\n",
              "      <td>000540</td>\n",
              "      <td>B+</td>\n",
              "      <td>B이하</td>\n",
              "      <td>B이하</td>\n",
              "      <td>A</td>\n",
              "      <td>2017</td>\n",
              "      <td></td>\n",
              "    </tr>\n",
              "    <tr>\n",
              "      <th>1</th>\n",
              "      <td>흥아해운</td>\n",
              "      <td>003280</td>\n",
              "      <td>B이하</td>\n",
              "      <td>B이하</td>\n",
              "      <td>B이하</td>\n",
              "      <td>B</td>\n",
              "      <td>2017</td>\n",
              "      <td></td>\n",
              "    </tr>\n",
              "  </tbody>\n",
              "</table>\n",
              "<p>732 rows × 8 columns</p>\n",
              "</div>"
            ],
            "text/plain": [
              "         기업명    기업코드 ESG등급   환경   사회 지배구조  평가년도 비고 (조정시기)\n",
              "NO                                                       \n",
              "732   AJ네트웍스  095570   B이하  B이하  B이하    B  2017          \n",
              "731    AJ렌터카  068400   B이하  B이하  B이하    C  2017          \n",
              "730    AK홀딩스  006840   B이하  B이하  B이하    B  2017          \n",
              "729      BGF  027410   B이하  B이하    A    B  2017          \n",
              "728  BNK금융지주  138930    B+   B+    A    B  2017          \n",
              "..       ...     ...   ...  ...  ...  ...   ...       ...\n",
              "5        휴비스  079980    B+   B+    A    B  2017          \n",
              "4        휴스틸  005010   B이하  B이하  B이하    B  2017          \n",
              "3        휴켐스  069260    B+   B+   B+    B  2017          \n",
              "2       흥국화재  000540    B+  B이하  B이하    A  2017          \n",
              "1       흥아해운  003280   B이하  B이하  B이하    B  2017          \n",
              "\n",
              "[732 rows x 8 columns]"
            ]
          },
          "metadata": {
            "tags": []
          },
          "execution_count": 23
        }
      ]
    },
    {
      "cell_type": "code",
      "metadata": {
        "id": "a41wDkrc5gjd"
      },
      "source": [
        "KCGS_ESG_2017.to_excel('KCGS_ESG_2017.xlsx')"
      ],
      "execution_count": null,
      "outputs": []
    },
    {
      "cell_type": "code",
      "metadata": {
        "id": "hPbTBWlHbIub"
      },
      "source": [
        "esg_list=[]\n",
        "for i in range(2011,2021):\n",
        "  esg_list.append(get_KCGS_ESG(i))"
      ],
      "execution_count": null,
      "outputs": []
    },
    {
      "cell_type": "code",
      "metadata": {
        "id": "o0gtjBukbP3r"
      },
      "source": [
        "for i in range(len(esg_list)):\n",
        "  esg_list[i].to_excel('KCGS_ESG_%d.xlsx'%(2011+i))"
      ],
      "execution_count": null,
      "outputs": []
    }
  ]
}