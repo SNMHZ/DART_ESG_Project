{
  "nbformat": 4,
  "nbformat_minor": 0,
  "metadata": {
    "colab": {
      "name": "BackTest_By_KCGS_Grade.ipynb",
      "provenance": [],
      "collapsed_sections": [
        "9Hfdo6PiYpZJ",
        "tjBOeQWAUUyB",
        "EHQ7F55AR0KQ"
      ],
      "authorship_tag": "ABX9TyOMItey/6dgwG1lVfytba8L",
      "include_colab_link": true
    },
    "kernelspec": {
      "name": "python3",
      "display_name": "Python 3"
    }
  },
  "cells": [
    {
      "cell_type": "markdown",
      "metadata": {
        "id": "view-in-github",
        "colab_type": "text"
      },
      "source": [
        "<a href=\"https://colab.research.google.com/github/SNMHZ/DART_ESG_Project/blob/main/BackTest_By_KCGS_Grade.ipynb\" target=\"_parent\"><img src=\"https://colab.research.google.com/assets/colab-badge.svg\" alt=\"Open In Colab\"/></a>"
      ]
    },
    {
      "cell_type": "markdown",
      "metadata": {
        "id": "9Hfdo6PiYpZJ"
      },
      "source": [
        "#여기부터 라이브러리 로드"
      ]
    },
    {
      "cell_type": "code",
      "metadata": {
        "id": "FekU478MQuVG"
      },
      "source": [
        "import pandas as pd\n",
        "import numpy as np\n",
        "import matplotlib.pyplot as plt"
      ],
      "execution_count": 1,
      "outputs": []
    },
    {
      "cell_type": "code",
      "metadata": {
        "colab": {
          "base_uri": "https://localhost:8080/"
        },
        "id": "oGzBJY0GQxCx",
        "outputId": "333d96b8-64f7-4ba8-992b-ffa3948e4260"
      },
      "source": [
        "!pip install PyMySQL"
      ],
      "execution_count": 2,
      "outputs": [
        {
          "output_type": "stream",
          "text": [
            "Collecting PyMySQL\n",
            "\u001b[?25l  Downloading https://files.pythonhosted.org/packages/1a/ea/dd9c81e2d85efd03cfbf808736dd055bd9ea1a78aea9968888b1055c3263/PyMySQL-0.10.1-py2.py3-none-any.whl (47kB)\n",
            "\r\u001b[K     |██████▉                         | 10kB 15.9MB/s eta 0:00:01\r\u001b[K     |█████████████▊                  | 20kB 17.6MB/s eta 0:00:01\r\u001b[K     |████████████████████▌           | 30kB 10.9MB/s eta 0:00:01\r\u001b[K     |███████████████████████████▍    | 40kB 8.2MB/s eta 0:00:01\r\u001b[K     |████████████████████████████████| 51kB 2.8MB/s \n",
            "\u001b[?25hInstalling collected packages: PyMySQL\n",
            "Successfully installed PyMySQL-0.10.1\n"
          ],
          "name": "stdout"
        }
      ]
    },
    {
      "cell_type": "code",
      "metadata": {
        "id": "8tl0W2kmQyL_"
      },
      "source": [
        "import pymysql"
      ],
      "execution_count": 3,
      "outputs": []
    },
    {
      "cell_type": "markdown",
      "metadata": {
        "id": "POBDRFXpUK6w"
      },
      "source": [
        "#여기부터 KCGS 데이터 로드 및 전처리"
      ]
    },
    {
      "cell_type": "code",
      "metadata": {
        "id": "yT4KxrGXQ3uY"
      },
      "source": [
        "#2011년도부터 2020년도까지 KCGS ESG DATA 로딩\n",
        "ESG_DF_DICT={}\n",
        "for i in range(10):\n",
        "  ESG_DF_DICT['KCGS_ESG_%d'%(i+2011)]=pd.read_excel('https://github.com/SNMHZ/DART_ESG_Project/raw/main/KCGS_DATA/KCGS_ESG_%d.xlsx'%(i+2011), index_col=0)"
      ],
      "execution_count": 4,
      "outputs": []
    },
    {
      "cell_type": "code",
      "metadata": {
        "id": "NxD2-1vyQ8f4"
      },
      "source": [
        "#텍스트로 구성된 등급을 숫자로 어떻게 변환 할 것 인가? 에 대한 정보(제 마음대로 정했습니다).\n",
        "grade_num = {}\n",
        "grade_num['S']=1\n",
        "grade_num['A+']=1\n",
        "grade_num['A']=2\n",
        "grade_num['B+']=3\n",
        "grade_num['B+이하']=3\n",
        "grade_num['B']=4\n",
        "grade_num['B이하']=5\n",
        "grade_num['C']=6\n",
        "grade_num['D']=7"
      ],
      "execution_count": 5,
      "outputs": []
    },
    {
      "cell_type": "code",
      "metadata": {
        "id": "avyaeJ78Q_Cg"
      },
      "source": [
        "#######################   데이터 전처리   #######################\n",
        "#기업코드 보정. ex) 5930 -> 'A005930',  298000 -> 'A298000'\n",
        "#ESG등급 보정.  ex) 'A+' -> 1, A -> 2\n",
        "#(보정 전 데이터) + (불필요 데이터. ex. 비고 등) 삭제\n",
        "#################################################################\n",
        "for i in range(10):\n",
        "  ESG_DF_DICT['KCGS_ESG_%d'%(i+2011)]=ESG_DF_DICT['KCGS_ESG_%d'%(i+2011)].drop(columns=['비고 (조정시기)']).dropna()\n",
        "  str_list=[]\n",
        "  for num in ESG_DF_DICT['KCGS_ESG_%d'%(i+2011)]['기업코드']:\n",
        "    str_list.append('A%06d'%num)\n",
        "  ESG_DF_DICT['KCGS_ESG_%d'%(i+2011)]['기업코드_보정']=str_list\n",
        "  for col in ['ESG등급', '환경', '사회', '지배구조']:\n",
        "    m_list=[]\n",
        "    for data in ESG_DF_DICT['KCGS_ESG_%d'%(i+2011)][col]:\n",
        "      m_list.append(grade_num[data])\n",
        "    ESG_DF_DICT['KCGS_ESG_%d'%(i+2011)][col+'N']=np.array(m_list, dtype='int64')\n",
        "  for name in ['기업코드', 'ESG등급', '환경', '사회', '지배구조', '평가년도']:\n",
        "    del ESG_DF_DICT['KCGS_ESG_%d'%(i+2011)][name]"
      ],
      "execution_count": 6,
      "outputs": []
    },
    {
      "cell_type": "markdown",
      "metadata": {
        "id": "tjBOeQWAUUyB"
      },
      "source": [
        "#보정된 데이터 프레임의 모습"
      ]
    },
    {
      "cell_type": "code",
      "metadata": {
        "colab": {
          "base_uri": "https://localhost:8080/",
          "height": 0
        },
        "id": "k-JQFzpsUWoQ",
        "outputId": "63e815db-2ade-41de-d3ec-03f5fd0aa21b"
      },
      "source": [
        "ESG_DF_DICT['KCGS_ESG_2017']"
      ],
      "execution_count": 7,
      "outputs": [
        {
          "output_type": "execute_result",
          "data": {
            "text/html": [
              "<div>\n",
              "<style scoped>\n",
              "    .dataframe tbody tr th:only-of-type {\n",
              "        vertical-align: middle;\n",
              "    }\n",
              "\n",
              "    .dataframe tbody tr th {\n",
              "        vertical-align: top;\n",
              "    }\n",
              "\n",
              "    .dataframe thead th {\n",
              "        text-align: right;\n",
              "    }\n",
              "</style>\n",
              "<table border=\"1\" class=\"dataframe\">\n",
              "  <thead>\n",
              "    <tr style=\"text-align: right;\">\n",
              "      <th></th>\n",
              "      <th>기업명</th>\n",
              "      <th>기업코드_보정</th>\n",
              "      <th>ESG등급N</th>\n",
              "      <th>환경N</th>\n",
              "      <th>사회N</th>\n",
              "      <th>지배구조N</th>\n",
              "    </tr>\n",
              "    <tr>\n",
              "      <th>NO</th>\n",
              "      <th></th>\n",
              "      <th></th>\n",
              "      <th></th>\n",
              "      <th></th>\n",
              "      <th></th>\n",
              "      <th></th>\n",
              "    </tr>\n",
              "  </thead>\n",
              "  <tbody>\n",
              "    <tr>\n",
              "      <th>732</th>\n",
              "      <td>AJ네트웍스</td>\n",
              "      <td>A095570</td>\n",
              "      <td>5</td>\n",
              "      <td>5</td>\n",
              "      <td>5</td>\n",
              "      <td>4</td>\n",
              "    </tr>\n",
              "    <tr>\n",
              "      <th>731</th>\n",
              "      <td>AJ렌터카</td>\n",
              "      <td>A068400</td>\n",
              "      <td>5</td>\n",
              "      <td>5</td>\n",
              "      <td>5</td>\n",
              "      <td>6</td>\n",
              "    </tr>\n",
              "    <tr>\n",
              "      <th>730</th>\n",
              "      <td>AK홀딩스</td>\n",
              "      <td>A006840</td>\n",
              "      <td>5</td>\n",
              "      <td>5</td>\n",
              "      <td>5</td>\n",
              "      <td>4</td>\n",
              "    </tr>\n",
              "    <tr>\n",
              "      <th>729</th>\n",
              "      <td>BGF</td>\n",
              "      <td>A027410</td>\n",
              "      <td>5</td>\n",
              "      <td>5</td>\n",
              "      <td>2</td>\n",
              "      <td>4</td>\n",
              "    </tr>\n",
              "    <tr>\n",
              "      <th>728</th>\n",
              "      <td>BNK금융지주</td>\n",
              "      <td>A138930</td>\n",
              "      <td>3</td>\n",
              "      <td>3</td>\n",
              "      <td>2</td>\n",
              "      <td>4</td>\n",
              "    </tr>\n",
              "    <tr>\n",
              "      <th>...</th>\n",
              "      <td>...</td>\n",
              "      <td>...</td>\n",
              "      <td>...</td>\n",
              "      <td>...</td>\n",
              "      <td>...</td>\n",
              "      <td>...</td>\n",
              "    </tr>\n",
              "    <tr>\n",
              "      <th>5</th>\n",
              "      <td>휴비스</td>\n",
              "      <td>A079980</td>\n",
              "      <td>3</td>\n",
              "      <td>3</td>\n",
              "      <td>2</td>\n",
              "      <td>4</td>\n",
              "    </tr>\n",
              "    <tr>\n",
              "      <th>4</th>\n",
              "      <td>휴스틸</td>\n",
              "      <td>A005010</td>\n",
              "      <td>5</td>\n",
              "      <td>5</td>\n",
              "      <td>5</td>\n",
              "      <td>4</td>\n",
              "    </tr>\n",
              "    <tr>\n",
              "      <th>3</th>\n",
              "      <td>휴켐스</td>\n",
              "      <td>A069260</td>\n",
              "      <td>3</td>\n",
              "      <td>3</td>\n",
              "      <td>3</td>\n",
              "      <td>4</td>\n",
              "    </tr>\n",
              "    <tr>\n",
              "      <th>2</th>\n",
              "      <td>흥국화재</td>\n",
              "      <td>A000540</td>\n",
              "      <td>3</td>\n",
              "      <td>5</td>\n",
              "      <td>5</td>\n",
              "      <td>2</td>\n",
              "    </tr>\n",
              "    <tr>\n",
              "      <th>1</th>\n",
              "      <td>흥아해운</td>\n",
              "      <td>A003280</td>\n",
              "      <td>5</td>\n",
              "      <td>5</td>\n",
              "      <td>5</td>\n",
              "      <td>4</td>\n",
              "    </tr>\n",
              "  </tbody>\n",
              "</table>\n",
              "<p>732 rows × 6 columns</p>\n",
              "</div>"
            ],
            "text/plain": [
              "         기업명  기업코드_보정  ESG등급N  환경N  사회N  지배구조N\n",
              "NO                                            \n",
              "732   AJ네트웍스  A095570       5    5    5      4\n",
              "731    AJ렌터카  A068400       5    5    5      6\n",
              "730    AK홀딩스  A006840       5    5    5      4\n",
              "729      BGF  A027410       5    5    2      4\n",
              "728  BNK금융지주  A138930       3    3    2      4\n",
              "..       ...      ...     ...  ...  ...    ...\n",
              "5        휴비스  A079980       3    3    2      4\n",
              "4        휴스틸  A005010       5    5    5      4\n",
              "3        휴켐스  A069260       3    3    3      4\n",
              "2       흥국화재  A000540       3    5    5      2\n",
              "1       흥아해운  A003280       5    5    5      4\n",
              "\n",
              "[732 rows x 6 columns]"
            ]
          },
          "metadata": {
            "tags": []
          },
          "execution_count": 7
        }
      ]
    },
    {
      "cell_type": "markdown",
      "metadata": {
        "id": "EHQ7F55AR0KQ"
      },
      "source": [
        "#여기부터 함수 및 DB 커넥션 설정."
      ]
    },
    {
      "cell_type": "code",
      "metadata": {
        "id": "67q__vcURrOi"
      },
      "source": [
        "##################데이터 DB에서 가져오기 함수###################\n",
        "#######input\n",
        "#stock_list -> 종목 코드 리스트(string)\n",
        "#start_date -> 쿼리 시작일(당일 포함)\n",
        "#start_date -> 쿼리 종료일(당일 포함)\n",
        "#cursor -> pymysql 데이터베이스 커서\n",
        "\n",
        "#######output\n",
        "#시계열 주가 정보.\n",
        "#( col == 종목 코드 ) && ( row == 시계열[start_date:end_date] )\n",
        "\n",
        "################################################################\n",
        "def quarry_value(stock_list, start_date, end_date, cursor):\n",
        "  #stock_list_result 생성. DB관계도 때문에 미리 세팅.\n",
        "  sql = \"SELECT * FROM table_info WHERE\"\n",
        "  for i, stock_code in enumerate(stock_list):\n",
        "    if i:\n",
        "      sql+=' or'\n",
        "    sql+=\" Symbol='\"+stock_code+\"'\"\n",
        "  cursor.execute(sql)\n",
        "  stock_list_result = pd.DataFrame(cursor.fetchall())\n",
        "\n",
        "  #관계도 바탕으로 각 주가 쿼리.\n",
        "  r_df=pd.DataFrame(index=pd.date_range(start_date, end_date), dtype='int64')\n",
        "  for i in range(len(stock_list_result)):\n",
        "    print('\\rfetching '+stock_list_result.loc[i][0]+' %d/%d'%(i+1, len(stock_list_result)), end='')\n",
        "    #stock_list_result.loc[i][0] #기업코드 str\n",
        "    #stock_list_result.loc[i][2] #테이블넘버 int\n",
        "    #쿼리문 작성\n",
        "    sql = \"SELECT \"+stock_list_result.loc[i][0]+\" FROM rsp\"+str(stock_list_result.loc[i][2])+\" WHERE DATE BETWEEN '\"+start_date+\"' and '\"+end_date+\"';\"\n",
        "    cursor.execute(sql)\n",
        "    result = cursor.fetchall()\n",
        "    r_df[stock_list_result.loc[i][0]]=pd.DataFrame(result, index=pd.date_range(start_date, end_date), dtype='int64')[stock_list_result.loc[i][0]].astype('int64')\n",
        "  print('\\rfetching end.')\n",
        "  return r_df"
      ],
      "execution_count": 8,
      "outputs": []
    },
    {
      "cell_type": "code",
      "metadata": {
        "id": "31hyDJZ3R0w1"
      },
      "source": [
        "##############  기준정보 DB에서 가져오기 함수  #################\n",
        "#######input\n",
        "#start_date -> 쿼리 시작일(당일 포함)\n",
        "#start_date -> 쿼리 종료일(당일 포함)\n",
        "#cursor -> pymysql 데이터베이스 커서\n",
        "\n",
        "#######output\n",
        "#시계열 지수 정보\n",
        "#( col == kospi, kospi200, kosdaq ) && ( row == 시계열[start_date:end_date] )\n",
        "\n",
        "################################################################\n",
        "def quarry_standard(start_date, end_date, cursor):\n",
        "  #쿼리문 작성\n",
        "  sql = \"SELECT kospi, kospi200, kosdaq FROM standard_table WHERE DATE BETWEEN '\"+start_date+\"' and '\"+end_date+\"';\"\n",
        "  cursor.execute(sql)\n",
        "  result = cursor.fetchall()\n",
        "  r_df=pd.DataFrame(result, index=pd.date_range(start_date, end_date))\n",
        "  for col in r_df.columns:\n",
        "    r_df[col]=r_df[col].astype('float64')\n",
        "  print('\\rfetching end.')\n",
        "  return r_df"
      ],
      "execution_count": 9,
      "outputs": []
    },
    {
      "cell_type": "code",
      "metadata": {
        "id": "T3vO8zWFRuEY"
      },
      "source": [
        "#input  -> 위에서 쿼리한 시계열 주가 정보\n",
        "#output -> 백테스트 변화율.\n",
        "def backtest(value_df, seed_money=100000000):\n",
        "  #지갑가치 조회\n",
        "  def get_stock_wallet_price(stock_wallet, date):\n",
        "    stock_wallet_value=0\n",
        "    for stock_name in stock_wallet.keys():\n",
        "      stock_wallet_value+=stock_wallet[stock_name]*value_df[stock_name][date]\n",
        "    return stock_wallet_value\n",
        "\n",
        "  current_money=seed_money\n",
        "  screened_stock_count=len(value_df.columns)\n",
        "  money_per_stock=current_money/screened_stock_count\n",
        "  rebalance_date=value_df.index[0]\n",
        "\n",
        "  #사놓을 거 지갑 만들기. (key-value)==(종목코드-구매 개수)\n",
        "  stock_wallet={}\n",
        "  for to_buy in value_df.columns:\n",
        "    stock_wallet[to_buy] = int(money_per_stock//value_df[to_buy][rebalance_date])\n",
        "\n",
        "  #백테스트 데이터프레임 뼈대 생성\n",
        "  backtest=pd.DataFrame(index=value_df.index)\n",
        "\n",
        "  stock_val_list=np.array([], dtype='int64')\n",
        "  for date in value_df.index:\n",
        "    stock_val_list = np.append(stock_val_list, get_stock_wallet_price(stock_wallet, date))\n",
        "  backtest['stock_val']=stock_val_list\n",
        "  cash=seed_money-get_stock_wallet_price(stock_wallet, rebalance_date)\n",
        "  backtest['cash']=np.array([cash]*len(value_df), dtype='int64')\n",
        "  backtest['total']=backtest['stock_val']+backtest['cash']\n",
        "  backtest['total_change']=backtest['total']/backtest['total'][backtest.index[0]]-1\n",
        "\n",
        "  return backtest"
      ],
      "execution_count": 10,
      "outputs": []
    },
    {
      "cell_type": "code",
      "metadata": {
        "id": "IyszgJFNRvg3"
      },
      "source": [
        "def visualize(standard_df, std_str, backtest_df_list=[], label_list=[]):\n",
        "  plt.figure(figsize = (15,8))\n",
        "  standard_df['total_change'].plot(linestyle='--', label=std_str)\n",
        "  for i, m_df in enumerate(backtest_df_list):\n",
        "    label_str=''\n",
        "    if len(label_list)<=i:\n",
        "      label_str=str(i)\n",
        "    else:\n",
        "      label_str=label_list[i]\n",
        "    m_df['total_change'].plot(label=label_str)\n",
        "  plt.plot()\n",
        "  plt.legend(loc='upper left')\n",
        "  plt.show()"
      ],
      "execution_count": 11,
      "outputs": []
    },
    {
      "cell_type": "code",
      "metadata": {
        "id": "cBPSsZpIRwcv"
      },
      "source": [
        "#제가 개인적으로 설정해두고 이용하는 데이터베이스 서버입니다.\n",
        "\n",
        "# at = pymysql.connect(\n",
        "#     user='', \n",
        "#     passwd='', \n",
        "#     host='', \n",
        "#     db='', \n",
        "#     charset=''\n",
        "# )\n",
        "# m_cursor = at.cursor(pymysql.cursors.DictCursor)"
      ],
      "execution_count": 21,
      "outputs": []
    },
    {
      "cell_type": "markdown",
      "metadata": {
        "id": "QVLw6mziUFFB"
      },
      "source": [
        "#여기부터 백테스트.\n",
        "\n"
      ]
    },
    {
      "cell_type": "code",
      "metadata": {
        "id": "I2LEeYjTSPhQ"
      },
      "source": [
        "ESG2017=ESG_DF_DICT['KCGS_ESG_2017']"
      ],
      "execution_count": 13,
      "outputs": []
    },
    {
      "cell_type": "code",
      "metadata": {
        "colab": {
          "base_uri": "https://localhost:8080/",
          "height": 437
        },
        "id": "DZoYQ3q0SQ3S",
        "outputId": "8e7a7a1c-4132-4d9d-ec44-4c4172fdf16e"
      },
      "source": [
        "#종합 ESG등급으로 백테스트. A+, A등급만 포함.\n",
        "ESG2017_value_df = quarry_value(ESG2017.loc[ESG2017['ESG등급N'] <= 2]['기업코드_보정'], '2018-01-01', '2018-12-31', m_cursor)\n",
        "comp = backtest(ESG2017_value_df, seed_money=1000000000)\n",
        "comp"
      ],
      "execution_count": 14,
      "outputs": [
        {
          "output_type": "stream",
          "text": [
            "fetching end.\n"
          ],
          "name": "stdout"
        },
        {
          "output_type": "execute_result",
          "data": {
            "text/html": [
              "<div>\n",
              "<style scoped>\n",
              "    .dataframe tbody tr th:only-of-type {\n",
              "        vertical-align: middle;\n",
              "    }\n",
              "\n",
              "    .dataframe tbody tr th {\n",
              "        vertical-align: top;\n",
              "    }\n",
              "\n",
              "    .dataframe thead th {\n",
              "        text-align: right;\n",
              "    }\n",
              "</style>\n",
              "<table border=\"1\" class=\"dataframe\">\n",
              "  <thead>\n",
              "    <tr style=\"text-align: right;\">\n",
              "      <th></th>\n",
              "      <th>stock_val</th>\n",
              "      <th>cash</th>\n",
              "      <th>total</th>\n",
              "      <th>total_change</th>\n",
              "    </tr>\n",
              "  </thead>\n",
              "  <tbody>\n",
              "    <tr>\n",
              "      <th>2018-01-01</th>\n",
              "      <td>998268027</td>\n",
              "      <td>1731973</td>\n",
              "      <td>1000000000</td>\n",
              "      <td>0.000000</td>\n",
              "    </tr>\n",
              "    <tr>\n",
              "      <th>2018-01-02</th>\n",
              "      <td>1004962340</td>\n",
              "      <td>1731973</td>\n",
              "      <td>1006694313</td>\n",
              "      <td>0.006694</td>\n",
              "    </tr>\n",
              "    <tr>\n",
              "      <th>2018-01-03</th>\n",
              "      <td>1007913016</td>\n",
              "      <td>1731973</td>\n",
              "      <td>1009644989</td>\n",
              "      <td>0.009645</td>\n",
              "    </tr>\n",
              "    <tr>\n",
              "      <th>2018-01-04</th>\n",
              "      <td>1008941576</td>\n",
              "      <td>1731973</td>\n",
              "      <td>1010673549</td>\n",
              "      <td>0.010674</td>\n",
              "    </tr>\n",
              "    <tr>\n",
              "      <th>2018-01-05</th>\n",
              "      <td>1019781998</td>\n",
              "      <td>1731973</td>\n",
              "      <td>1021513971</td>\n",
              "      <td>0.021514</td>\n",
              "    </tr>\n",
              "    <tr>\n",
              "      <th>...</th>\n",
              "      <td>...</td>\n",
              "      <td>...</td>\n",
              "      <td>...</td>\n",
              "      <td>...</td>\n",
              "    </tr>\n",
              "    <tr>\n",
              "      <th>2018-12-27</th>\n",
              "      <td>897060821</td>\n",
              "      <td>1731973</td>\n",
              "      <td>898792794</td>\n",
              "      <td>-0.101207</td>\n",
              "    </tr>\n",
              "    <tr>\n",
              "      <th>2018-12-28</th>\n",
              "      <td>901230217</td>\n",
              "      <td>1731973</td>\n",
              "      <td>902962190</td>\n",
              "      <td>-0.097038</td>\n",
              "    </tr>\n",
              "    <tr>\n",
              "      <th>2018-12-29</th>\n",
              "      <td>901230217</td>\n",
              "      <td>1731973</td>\n",
              "      <td>902962190</td>\n",
              "      <td>-0.097038</td>\n",
              "    </tr>\n",
              "    <tr>\n",
              "      <th>2018-12-30</th>\n",
              "      <td>901230217</td>\n",
              "      <td>1731973</td>\n",
              "      <td>902962190</td>\n",
              "      <td>-0.097038</td>\n",
              "    </tr>\n",
              "    <tr>\n",
              "      <th>2018-12-31</th>\n",
              "      <td>901230217</td>\n",
              "      <td>1731973</td>\n",
              "      <td>902962190</td>\n",
              "      <td>-0.097038</td>\n",
              "    </tr>\n",
              "  </tbody>\n",
              "</table>\n",
              "<p>365 rows × 4 columns</p>\n",
              "</div>"
            ],
            "text/plain": [
              "             stock_val     cash       total  total_change\n",
              "2018-01-01   998268027  1731973  1000000000      0.000000\n",
              "2018-01-02  1004962340  1731973  1006694313      0.006694\n",
              "2018-01-03  1007913016  1731973  1009644989      0.009645\n",
              "2018-01-04  1008941576  1731973  1010673549      0.010674\n",
              "2018-01-05  1019781998  1731973  1021513971      0.021514\n",
              "...                ...      ...         ...           ...\n",
              "2018-12-27   897060821  1731973   898792794     -0.101207\n",
              "2018-12-28   901230217  1731973   902962190     -0.097038\n",
              "2018-12-29   901230217  1731973   902962190     -0.097038\n",
              "2018-12-30   901230217  1731973   902962190     -0.097038\n",
              "2018-12-31   901230217  1731973   902962190     -0.097038\n",
              "\n",
              "[365 rows x 4 columns]"
            ]
          },
          "metadata": {
            "tags": []
          },
          "execution_count": 14
        }
      ]
    },
    {
      "cell_type": "code",
      "metadata": {
        "colab": {
          "base_uri": "https://localhost:8080/",
          "height": 437
        },
        "id": "DvD64_uVScgj",
        "outputId": "df855b7b-69a5-42c4-c670-61f56d8d5ddc"
      },
      "source": [
        "#환경(E) 등급으로 백테스트. A+, A등급만 포함.\n",
        "ESG2017_value_df=quarry_value(ESG2017.loc[ESG2017['환경N'] <= 2]['기업코드_보정'], '2018-01-01', '2018-12-31', m_cursor)\n",
        "envi = backtest(ESG2017_value_df, seed_money=1000000000)\n",
        "envi"
      ],
      "execution_count": 15,
      "outputs": [
        {
          "output_type": "stream",
          "text": [
            "fetching end.\n"
          ],
          "name": "stdout"
        },
        {
          "output_type": "execute_result",
          "data": {
            "text/html": [
              "<div>\n",
              "<style scoped>\n",
              "    .dataframe tbody tr th:only-of-type {\n",
              "        vertical-align: middle;\n",
              "    }\n",
              "\n",
              "    .dataframe tbody tr th {\n",
              "        vertical-align: top;\n",
              "    }\n",
              "\n",
              "    .dataframe thead th {\n",
              "        text-align: right;\n",
              "    }\n",
              "</style>\n",
              "<table border=\"1\" class=\"dataframe\">\n",
              "  <thead>\n",
              "    <tr style=\"text-align: right;\">\n",
              "      <th></th>\n",
              "      <th>stock_val</th>\n",
              "      <th>cash</th>\n",
              "      <th>total</th>\n",
              "      <th>total_change</th>\n",
              "    </tr>\n",
              "  </thead>\n",
              "  <tbody>\n",
              "    <tr>\n",
              "      <th>2018-01-01</th>\n",
              "      <td>996882608</td>\n",
              "      <td>3117392</td>\n",
              "      <td>1000000000</td>\n",
              "      <td>0.000000</td>\n",
              "    </tr>\n",
              "    <tr>\n",
              "      <th>2018-01-02</th>\n",
              "      <td>1012834499</td>\n",
              "      <td>3117392</td>\n",
              "      <td>1015951891</td>\n",
              "      <td>0.015952</td>\n",
              "    </tr>\n",
              "    <tr>\n",
              "      <th>2018-01-03</th>\n",
              "      <td>1025103344</td>\n",
              "      <td>3117392</td>\n",
              "      <td>1028220736</td>\n",
              "      <td>0.028221</td>\n",
              "    </tr>\n",
              "    <tr>\n",
              "      <th>2018-01-04</th>\n",
              "      <td>1026348555</td>\n",
              "      <td>3117392</td>\n",
              "      <td>1029465947</td>\n",
              "      <td>0.029466</td>\n",
              "    </tr>\n",
              "    <tr>\n",
              "      <th>2018-01-05</th>\n",
              "      <td>1034492055</td>\n",
              "      <td>3117392</td>\n",
              "      <td>1037609447</td>\n",
              "      <td>0.037609</td>\n",
              "    </tr>\n",
              "    <tr>\n",
              "      <th>...</th>\n",
              "      <td>...</td>\n",
              "      <td>...</td>\n",
              "      <td>...</td>\n",
              "      <td>...</td>\n",
              "    </tr>\n",
              "    <tr>\n",
              "      <th>2018-12-27</th>\n",
              "      <td>938140046</td>\n",
              "      <td>3117392</td>\n",
              "      <td>941257438</td>\n",
              "      <td>-0.058743</td>\n",
              "    </tr>\n",
              "    <tr>\n",
              "      <th>2018-12-28</th>\n",
              "      <td>941820509</td>\n",
              "      <td>3117392</td>\n",
              "      <td>944937901</td>\n",
              "      <td>-0.055062</td>\n",
              "    </tr>\n",
              "    <tr>\n",
              "      <th>2018-12-29</th>\n",
              "      <td>941820509</td>\n",
              "      <td>3117392</td>\n",
              "      <td>944937901</td>\n",
              "      <td>-0.055062</td>\n",
              "    </tr>\n",
              "    <tr>\n",
              "      <th>2018-12-30</th>\n",
              "      <td>941820509</td>\n",
              "      <td>3117392</td>\n",
              "      <td>944937901</td>\n",
              "      <td>-0.055062</td>\n",
              "    </tr>\n",
              "    <tr>\n",
              "      <th>2018-12-31</th>\n",
              "      <td>941820509</td>\n",
              "      <td>3117392</td>\n",
              "      <td>944937901</td>\n",
              "      <td>-0.055062</td>\n",
              "    </tr>\n",
              "  </tbody>\n",
              "</table>\n",
              "<p>365 rows × 4 columns</p>\n",
              "</div>"
            ],
            "text/plain": [
              "             stock_val     cash       total  total_change\n",
              "2018-01-01   996882608  3117392  1000000000      0.000000\n",
              "2018-01-02  1012834499  3117392  1015951891      0.015952\n",
              "2018-01-03  1025103344  3117392  1028220736      0.028221\n",
              "2018-01-04  1026348555  3117392  1029465947      0.029466\n",
              "2018-01-05  1034492055  3117392  1037609447      0.037609\n",
              "...                ...      ...         ...           ...\n",
              "2018-12-27   938140046  3117392   941257438     -0.058743\n",
              "2018-12-28   941820509  3117392   944937901     -0.055062\n",
              "2018-12-29   941820509  3117392   944937901     -0.055062\n",
              "2018-12-30   941820509  3117392   944937901     -0.055062\n",
              "2018-12-31   941820509  3117392   944937901     -0.055062\n",
              "\n",
              "[365 rows x 4 columns]"
            ]
          },
          "metadata": {
            "tags": []
          },
          "execution_count": 15
        }
      ]
    },
    {
      "cell_type": "code",
      "metadata": {
        "colab": {
          "base_uri": "https://localhost:8080/",
          "height": 437
        },
        "id": "BYvfnTBRRQhw",
        "outputId": "33e814c9-b1ea-4849-ecca-5154136fc353"
      },
      "source": [
        "#사회(S) 등급으로 백테스트. A+, A등급만 포함.\n",
        "ESG2017_value_df=quarry_value(ESG2017.loc[ESG2017['사회N'] <= 2]['기업코드_보정'], '2018-01-01', '2018-12-31', m_cursor)\n",
        "soci = backtest(ESG2017_value_df, seed_money=1000000000)\n",
        "soci"
      ],
      "execution_count": 16,
      "outputs": [
        {
          "output_type": "stream",
          "text": [
            "fetching end.\n"
          ],
          "name": "stdout"
        },
        {
          "output_type": "execute_result",
          "data": {
            "text/html": [
              "<div>\n",
              "<style scoped>\n",
              "    .dataframe tbody tr th:only-of-type {\n",
              "        vertical-align: middle;\n",
              "    }\n",
              "\n",
              "    .dataframe tbody tr th {\n",
              "        vertical-align: top;\n",
              "    }\n",
              "\n",
              "    .dataframe thead th {\n",
              "        text-align: right;\n",
              "    }\n",
              "</style>\n",
              "<table border=\"1\" class=\"dataframe\">\n",
              "  <thead>\n",
              "    <tr style=\"text-align: right;\">\n",
              "      <th></th>\n",
              "      <th>stock_val</th>\n",
              "      <th>cash</th>\n",
              "      <th>total</th>\n",
              "      <th>total_change</th>\n",
              "    </tr>\n",
              "  </thead>\n",
              "  <tbody>\n",
              "    <tr>\n",
              "      <th>2018-01-01</th>\n",
              "      <td>995399782</td>\n",
              "      <td>4600218</td>\n",
              "      <td>1000000000</td>\n",
              "      <td>0.000000</td>\n",
              "    </tr>\n",
              "    <tr>\n",
              "      <th>2018-01-02</th>\n",
              "      <td>1000969521</td>\n",
              "      <td>4600218</td>\n",
              "      <td>1005569739</td>\n",
              "      <td>0.005570</td>\n",
              "    </tr>\n",
              "    <tr>\n",
              "      <th>2018-01-03</th>\n",
              "      <td>1002455755</td>\n",
              "      <td>4600218</td>\n",
              "      <td>1007055973</td>\n",
              "      <td>0.007056</td>\n",
              "    </tr>\n",
              "    <tr>\n",
              "      <th>2018-01-04</th>\n",
              "      <td>1001505512</td>\n",
              "      <td>4600218</td>\n",
              "      <td>1006105730</td>\n",
              "      <td>0.006106</td>\n",
              "    </tr>\n",
              "    <tr>\n",
              "      <th>2018-01-05</th>\n",
              "      <td>1010969765</td>\n",
              "      <td>4600218</td>\n",
              "      <td>1015569983</td>\n",
              "      <td>0.015570</td>\n",
              "    </tr>\n",
              "    <tr>\n",
              "      <th>...</th>\n",
              "      <td>...</td>\n",
              "      <td>...</td>\n",
              "      <td>...</td>\n",
              "      <td>...</td>\n",
              "    </tr>\n",
              "    <tr>\n",
              "      <th>2018-12-27</th>\n",
              "      <td>866637692</td>\n",
              "      <td>4600218</td>\n",
              "      <td>871237910</td>\n",
              "      <td>-0.128762</td>\n",
              "    </tr>\n",
              "    <tr>\n",
              "      <th>2018-12-28</th>\n",
              "      <td>869730673</td>\n",
              "      <td>4600218</td>\n",
              "      <td>874330891</td>\n",
              "      <td>-0.125669</td>\n",
              "    </tr>\n",
              "    <tr>\n",
              "      <th>2018-12-29</th>\n",
              "      <td>869730673</td>\n",
              "      <td>4600218</td>\n",
              "      <td>874330891</td>\n",
              "      <td>-0.125669</td>\n",
              "    </tr>\n",
              "    <tr>\n",
              "      <th>2018-12-30</th>\n",
              "      <td>869730673</td>\n",
              "      <td>4600218</td>\n",
              "      <td>874330891</td>\n",
              "      <td>-0.125669</td>\n",
              "    </tr>\n",
              "    <tr>\n",
              "      <th>2018-12-31</th>\n",
              "      <td>869730673</td>\n",
              "      <td>4600218</td>\n",
              "      <td>874330891</td>\n",
              "      <td>-0.125669</td>\n",
              "    </tr>\n",
              "  </tbody>\n",
              "</table>\n",
              "<p>365 rows × 4 columns</p>\n",
              "</div>"
            ],
            "text/plain": [
              "             stock_val     cash       total  total_change\n",
              "2018-01-01   995399782  4600218  1000000000      0.000000\n",
              "2018-01-02  1000969521  4600218  1005569739      0.005570\n",
              "2018-01-03  1002455755  4600218  1007055973      0.007056\n",
              "2018-01-04  1001505512  4600218  1006105730      0.006106\n",
              "2018-01-05  1010969765  4600218  1015569983      0.015570\n",
              "...                ...      ...         ...           ...\n",
              "2018-12-27   866637692  4600218   871237910     -0.128762\n",
              "2018-12-28   869730673  4600218   874330891     -0.125669\n",
              "2018-12-29   869730673  4600218   874330891     -0.125669\n",
              "2018-12-30   869730673  4600218   874330891     -0.125669\n",
              "2018-12-31   869730673  4600218   874330891     -0.125669\n",
              "\n",
              "[365 rows x 4 columns]"
            ]
          },
          "metadata": {
            "tags": []
          },
          "execution_count": 16
        }
      ]
    },
    {
      "cell_type": "code",
      "metadata": {
        "colab": {
          "base_uri": "https://localhost:8080/",
          "height": 437
        },
        "id": "Xdt9rTlTSgQh",
        "outputId": "bead389c-914f-47cf-ff48-9a31c20459e2"
      },
      "source": [
        "#지배구조(G) 등급으로 백테스트. A+, A등급만 포함.\n",
        "ESG2017_value_df=quarry_value(ESG2017.loc[ESG2017['지배구조N'] <= 2]['기업코드_보정'], '2018-01-01', '2018-12-31', m_cursor)\n",
        "gove = backtest(ESG2017_value_df, seed_money=1000000000)\n",
        "gove"
      ],
      "execution_count": 17,
      "outputs": [
        {
          "output_type": "stream",
          "text": [
            "fetching end.\n"
          ],
          "name": "stdout"
        },
        {
          "output_type": "execute_result",
          "data": {
            "text/html": [
              "<div>\n",
              "<style scoped>\n",
              "    .dataframe tbody tr th:only-of-type {\n",
              "        vertical-align: middle;\n",
              "    }\n",
              "\n",
              "    .dataframe tbody tr th {\n",
              "        vertical-align: top;\n",
              "    }\n",
              "\n",
              "    .dataframe thead th {\n",
              "        text-align: right;\n",
              "    }\n",
              "</style>\n",
              "<table border=\"1\" class=\"dataframe\">\n",
              "  <thead>\n",
              "    <tr style=\"text-align: right;\">\n",
              "      <th></th>\n",
              "      <th>stock_val</th>\n",
              "      <th>cash</th>\n",
              "      <th>total</th>\n",
              "      <th>total_change</th>\n",
              "    </tr>\n",
              "  </thead>\n",
              "  <tbody>\n",
              "    <tr>\n",
              "      <th>2018-01-01</th>\n",
              "      <td>998518397</td>\n",
              "      <td>1481603</td>\n",
              "      <td>1000000000</td>\n",
              "      <td>0.000000</td>\n",
              "    </tr>\n",
              "    <tr>\n",
              "      <th>2018-01-02</th>\n",
              "      <td>999235706</td>\n",
              "      <td>1481603</td>\n",
              "      <td>1000717309</td>\n",
              "      <td>0.000717</td>\n",
              "    </tr>\n",
              "    <tr>\n",
              "      <th>2018-01-03</th>\n",
              "      <td>998504232</td>\n",
              "      <td>1481603</td>\n",
              "      <td>999985835</td>\n",
              "      <td>-0.000014</td>\n",
              "    </tr>\n",
              "    <tr>\n",
              "      <th>2018-01-04</th>\n",
              "      <td>994589229</td>\n",
              "      <td>1481603</td>\n",
              "      <td>996070832</td>\n",
              "      <td>-0.003929</td>\n",
              "    </tr>\n",
              "    <tr>\n",
              "      <th>2018-01-05</th>\n",
              "      <td>1012701796</td>\n",
              "      <td>1481603</td>\n",
              "      <td>1014183399</td>\n",
              "      <td>0.014183</td>\n",
              "    </tr>\n",
              "    <tr>\n",
              "      <th>...</th>\n",
              "      <td>...</td>\n",
              "      <td>...</td>\n",
              "      <td>...</td>\n",
              "      <td>...</td>\n",
              "    </tr>\n",
              "    <tr>\n",
              "      <th>2018-12-27</th>\n",
              "      <td>839254903</td>\n",
              "      <td>1481603</td>\n",
              "      <td>840736506</td>\n",
              "      <td>-0.159263</td>\n",
              "    </tr>\n",
              "    <tr>\n",
              "      <th>2018-12-28</th>\n",
              "      <td>844330247</td>\n",
              "      <td>1481603</td>\n",
              "      <td>845811850</td>\n",
              "      <td>-0.154188</td>\n",
              "    </tr>\n",
              "    <tr>\n",
              "      <th>2018-12-29</th>\n",
              "      <td>844330247</td>\n",
              "      <td>1481603</td>\n",
              "      <td>845811850</td>\n",
              "      <td>-0.154188</td>\n",
              "    </tr>\n",
              "    <tr>\n",
              "      <th>2018-12-30</th>\n",
              "      <td>844330247</td>\n",
              "      <td>1481603</td>\n",
              "      <td>845811850</td>\n",
              "      <td>-0.154188</td>\n",
              "    </tr>\n",
              "    <tr>\n",
              "      <th>2018-12-31</th>\n",
              "      <td>844330247</td>\n",
              "      <td>1481603</td>\n",
              "      <td>845811850</td>\n",
              "      <td>-0.154188</td>\n",
              "    </tr>\n",
              "  </tbody>\n",
              "</table>\n",
              "<p>365 rows × 4 columns</p>\n",
              "</div>"
            ],
            "text/plain": [
              "             stock_val     cash       total  total_change\n",
              "2018-01-01   998518397  1481603  1000000000      0.000000\n",
              "2018-01-02   999235706  1481603  1000717309      0.000717\n",
              "2018-01-03   998504232  1481603   999985835     -0.000014\n",
              "2018-01-04   994589229  1481603   996070832     -0.003929\n",
              "2018-01-05  1012701796  1481603  1014183399      0.014183\n",
              "...                ...      ...         ...           ...\n",
              "2018-12-27   839254903  1481603   840736506     -0.159263\n",
              "2018-12-28   844330247  1481603   845811850     -0.154188\n",
              "2018-12-29   844330247  1481603   845811850     -0.154188\n",
              "2018-12-30   844330247  1481603   845811850     -0.154188\n",
              "2018-12-31   844330247  1481603   845811850     -0.154188\n",
              "\n",
              "[365 rows x 4 columns]"
            ]
          },
          "metadata": {
            "tags": []
          },
          "execution_count": 17
        }
      ]
    },
    {
      "cell_type": "code",
      "metadata": {
        "colab": {
          "base_uri": "https://localhost:8080/",
          "height": 437
        },
        "id": "jeLhmlW0StTL",
        "outputId": "6b93c3a0-525f-4991-f42c-e07be17b6939"
      },
      "source": [
        "#비교군 데이터 추출. kospi지수로 테스트.\n",
        "std_df=quarry_standard('2018-01-01', '2018-12-31', m_cursor)\n",
        "std_df['total_change']=std_df['kospi200']/std_df['kospi200'][std_df.index[0]]-1\n",
        "std_df"
      ],
      "execution_count": 18,
      "outputs": [
        {
          "output_type": "stream",
          "text": [
            "\rfetching end.\n"
          ],
          "name": "stdout"
        },
        {
          "output_type": "execute_result",
          "data": {
            "text/html": [
              "<div>\n",
              "<style scoped>\n",
              "    .dataframe tbody tr th:only-of-type {\n",
              "        vertical-align: middle;\n",
              "    }\n",
              "\n",
              "    .dataframe tbody tr th {\n",
              "        vertical-align: top;\n",
              "    }\n",
              "\n",
              "    .dataframe thead th {\n",
              "        text-align: right;\n",
              "    }\n",
              "</style>\n",
              "<table border=\"1\" class=\"dataframe\">\n",
              "  <thead>\n",
              "    <tr style=\"text-align: right;\">\n",
              "      <th></th>\n",
              "      <th>kospi</th>\n",
              "      <th>kospi200</th>\n",
              "      <th>kosdaq</th>\n",
              "      <th>total_change</th>\n",
              "    </tr>\n",
              "  </thead>\n",
              "  <tbody>\n",
              "    <tr>\n",
              "      <th>2018-01-01</th>\n",
              "      <td>2467.49</td>\n",
              "      <td>324.74</td>\n",
              "      <td>798.42</td>\n",
              "      <td>0.000000</td>\n",
              "    </tr>\n",
              "    <tr>\n",
              "      <th>2018-01-02</th>\n",
              "      <td>2479.65</td>\n",
              "      <td>326.00</td>\n",
              "      <td>812.45</td>\n",
              "      <td>0.003880</td>\n",
              "    </tr>\n",
              "    <tr>\n",
              "      <th>2018-01-03</th>\n",
              "      <td>2486.35</td>\n",
              "      <td>327.13</td>\n",
              "      <td>822.31</td>\n",
              "      <td>0.007360</td>\n",
              "    </tr>\n",
              "    <tr>\n",
              "      <th>2018-01-04</th>\n",
              "      <td>2466.46</td>\n",
              "      <td>324.58</td>\n",
              "      <td>808.01</td>\n",
              "      <td>-0.000493</td>\n",
              "    </tr>\n",
              "    <tr>\n",
              "      <th>2018-01-05</th>\n",
              "      <td>2497.52</td>\n",
              "      <td>328.97</td>\n",
              "      <td>828.03</td>\n",
              "      <td>0.013026</td>\n",
              "    </tr>\n",
              "    <tr>\n",
              "      <th>...</th>\n",
              "      <td>...</td>\n",
              "      <td>...</td>\n",
              "      <td>...</td>\n",
              "      <td>...</td>\n",
              "    </tr>\n",
              "    <tr>\n",
              "      <th>2018-12-27</th>\n",
              "      <td>2028.44</td>\n",
              "      <td>260.57</td>\n",
              "      <td>667.88</td>\n",
              "      <td>-0.197604</td>\n",
              "    </tr>\n",
              "    <tr>\n",
              "      <th>2018-12-28</th>\n",
              "      <td>2041.04</td>\n",
              "      <td>261.98</td>\n",
              "      <td>675.65</td>\n",
              "      <td>-0.193262</td>\n",
              "    </tr>\n",
              "    <tr>\n",
              "      <th>2018-12-29</th>\n",
              "      <td>2041.04</td>\n",
              "      <td>261.98</td>\n",
              "      <td>675.65</td>\n",
              "      <td>-0.193262</td>\n",
              "    </tr>\n",
              "    <tr>\n",
              "      <th>2018-12-30</th>\n",
              "      <td>2041.04</td>\n",
              "      <td>261.98</td>\n",
              "      <td>675.65</td>\n",
              "      <td>-0.193262</td>\n",
              "    </tr>\n",
              "    <tr>\n",
              "      <th>2018-12-31</th>\n",
              "      <td>2041.04</td>\n",
              "      <td>261.98</td>\n",
              "      <td>675.65</td>\n",
              "      <td>-0.193262</td>\n",
              "    </tr>\n",
              "  </tbody>\n",
              "</table>\n",
              "<p>365 rows × 4 columns</p>\n",
              "</div>"
            ],
            "text/plain": [
              "              kospi  kospi200  kosdaq  total_change\n",
              "2018-01-01  2467.49    324.74  798.42      0.000000\n",
              "2018-01-02  2479.65    326.00  812.45      0.003880\n",
              "2018-01-03  2486.35    327.13  822.31      0.007360\n",
              "2018-01-04  2466.46    324.58  808.01     -0.000493\n",
              "2018-01-05  2497.52    328.97  828.03      0.013026\n",
              "...             ...       ...     ...           ...\n",
              "2018-12-27  2028.44    260.57  667.88     -0.197604\n",
              "2018-12-28  2041.04    261.98  675.65     -0.193262\n",
              "2018-12-29  2041.04    261.98  675.65     -0.193262\n",
              "2018-12-30  2041.04    261.98  675.65     -0.193262\n",
              "2018-12-31  2041.04    261.98  675.65     -0.193262\n",
              "\n",
              "[365 rows x 4 columns]"
            ]
          },
          "metadata": {
            "tags": []
          },
          "execution_count": 18
        }
      ]
    },
    {
      "cell_type": "code",
      "metadata": {
        "colab": {
          "base_uri": "https://localhost:8080/",
          "height": 494
        },
        "id": "4nX453m7cuEI",
        "outputId": "abd398dc-fb6d-4257-d1fc-fd3ba6ca9fbc"
      },
      "source": [
        "#비교군 포함.\n",
        "visualize(std_df, 'kospi200', [comp, envi, soci, gove], ['comp', 'envi', 'soci', 'gove'])"
      ],
      "execution_count": 19,
      "outputs": [
        {
          "output_type": "display_data",
          "data": {
            "image/png": "[encoded data removed]",
            "text/plain": [
              "<Figure size 1080x576 with 1 Axes>"
            ]
          },
          "metadata": {
            "tags": [],
            "needs_background": "light"
          }
        }
      ]
    }
  ]
}